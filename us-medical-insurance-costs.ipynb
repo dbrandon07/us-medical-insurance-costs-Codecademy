{
 "cells": [
  {
   "cell_type": "markdown",
   "metadata": {},
   "source": [
    "# U.S. Medical Insurance Costs"
   ]
  },
  {
   "cell_type": "markdown",
   "metadata": {},
   "source": [
    "### Import the data"
   ]
  },
  {
   "cell_type": "code",
   "execution_count": 10,
   "metadata": {},
   "outputs": [],
   "source": [
    "import csv\n",
    "\n",
    "with open('insurance.csv', 'r') as insurance_csv:\n",
    "    data = []\n",
    "    csv_data = csv.DictReader(insurance_csv)\n",
    "    \n",
    "    for row in csv_data:\n",
    "        data.append(row)\n",
    "    # data is NOW a list of dicts (i.e. rows)"
   ]
  },
  {
   "cell_type": "markdown",
   "metadata": {},
   "source": [
    "### Determine Average Age"
   ]
  },
  {
   "cell_type": "code",
   "execution_count": 2,
   "metadata": {},
   "outputs": [
    {
     "name": "stdout",
     "output_type": "stream",
     "text": [
      "The average age of those recorded is 39.21 years.\n"
     ]
    }
   ],
   "source": [
    "def average_age(data):\n",
    "    ages_total = 0\n",
    "    for item in data:\n",
    "        ages_total += int(item['age'])\n",
    "        \n",
    "    average = round((ages_total / len(data)), 2)\n",
    "    print(f'The average age of those recorded is {average} years.')\n",
    "        \n",
    "average_age(data)\n"
   ]
  },
  {
   "cell_type": "markdown",
   "metadata": {},
   "source": [
    "### Majority Area"
   ]
  },
  {
   "cell_type": "code",
   "execution_count": 3,
   "metadata": {},
   "outputs": [
    {
     "name": "stdout",
     "output_type": "stream",
     "text": [
      "The area with the most insured people on record is the Southeast.\n"
     ]
    }
   ],
   "source": [
    "def majority_area(data):\n",
    "    # create a list for the area dicts \n",
    "    areas = {}\n",
    "    \n",
    "    # iterate through everyone\n",
    "    for row in data:\n",
    "        # if their area is in the dict, += 1\n",
    "        row_region = row['region']\n",
    "        if row['region'] in list(areas.keys()):\n",
    "            areas[row_region] += 1\n",
    "        # else, create new dict and set at 1\n",
    "        else:\n",
    "            # new_region = {row_region: 1}\n",
    "            areas.update({row_region: 1})\n",
    "    \n",
    "    # return dict with highest value\n",
    "    majority_area = max(areas, key=areas.get).title()\n",
    "    print(f'The area with the most insured people on record is the {majority_area}.')\n",
    "    \n",
    "majority_area(data)"
   ]
  },
  {
   "cell_type": "markdown",
   "metadata": {},
   "source": [
    "### Average Difference Between Cost of Smokers/Non-Smokers"
   ]
  },
  {
   "cell_type": "code",
   "execution_count": 4,
   "metadata": {},
   "outputs": [
    {
     "name": "stdout",
     "output_type": "stream",
     "text": [
      "The average non-smoker costs $23615.96 less than the average smoker.\n"
     ]
    }
   ],
   "source": [
    "def diff_smoking(data):\n",
    "    smokers_total = 0\n",
    "    smokers_costs = 0\n",
    "    non_smokers_total = 0\n",
    "    non_smokers_costs = 0\n",
    "    for person in data:\n",
    "        if person['smoker'] == 'yes':\n",
    "            smokers_total += 1\n",
    "            smokers_costs += float(person['charges'])\n",
    "        else: \n",
    "            non_smokers_total += 1\n",
    "            non_smokers_costs += float(person['charges'])\n",
    "\n",
    "    smokers_avg = smokers_costs / smokers_total\n",
    "    non_smokers_avg = non_smokers_costs / non_smokers_total\n",
    "    diff = round(smokers_avg - non_smokers_avg, 2)\n",
    "    \n",
    "    print(f'The average non-smoker costs ${diff} less than the average smoker.')\n",
    "        \n",
    "        \n",
    "diff_smoking(data)\n"
   ]
  },
  {
   "cell_type": "markdown",
   "metadata": {},
   "source": [
    "### Average age for those with kids"
   ]
  },
  {
   "cell_type": "code",
   "execution_count": 5,
   "metadata": {},
   "outputs": [
    {
     "name": "stdout",
     "output_type": "stream",
     "text": [
      "The average age of persons with children is 39.8 years.\n"
     ]
    }
   ],
   "source": [
    "def avg_age_with_kids(data):\n",
    "    with_kids_counter = 0\n",
    "    with_kids_ages = 0\n",
    "    for person in data:\n",
    "        if person['children'] != '0':\n",
    "            with_kids_counter += 1\n",
    "            with_kids_ages += int(person['age'])\n",
    "        else: \n",
    "            pass\n",
    "\n",
    "    avg_age_with_kids = round((with_kids_ages / with_kids_counter), 1)\n",
    "    \n",
    "    print(f'The average age of persons with children is {avg_age_with_kids} years.')\n",
    "        \n",
    "        \n",
    "avg_age_with_kids(data)\n"
   ]
  },
  {
   "cell_type": "markdown",
   "metadata": {},
   "source": [
    "### Costs increase from one age to the next (by five years)"
   ]
  },
  {
   "cell_type": "code",
   "execution_count": 6,
   "metadata": {},
   "outputs": [],
   "source": [
    "# highest_age = 0\n",
    "# for row in data:\n",
    "#     if int(row['age']) > highest_age:\n",
    "#         highest_age = int(row['age'])\n",
    "\n",
    "# print(highest_age)\n",
    "# 64"
   ]
  },
  {
   "cell_type": "code",
   "execution_count": 7,
   "metadata": {},
   "outputs": [
    {
     "name": "stdout",
     "output_type": "stream",
     "text": [
      "The average costs for those aged 25 to 29 was $9524.78.\n",
      "The average costs for those aged 30 to 34 was $11223.89.\n",
      "The average costs for those aged 35 to 39 was $12282.51.\n",
      "The average costs for those aged 40 to 44 was $13922.74.\n",
      "The average costs for those aged 45 to 49 was $14845.89.\n",
      "The average costs for those aged 50 to 54 was $16869.02.\n",
      "The average costs for those aged 55 to 59 was $16077.64.\n",
      "The average costs for those aged 60 to 64 was $21248.02.\n"
     ]
    }
   ],
   "source": [
    "def five_yr_increases(data):\n",
    "    # set ranges in a list?\n",
    "    ages = [i + 5 for i in range(20, 65, 5)]\n",
    "    # make a dict for age range and avg cost\n",
    "    grouped_costs = {key: 0 for key in ages}\n",
    "    # print(grouped_costs)\n",
    "    # {25: 0, 30: 0, 35: 0, 40: 0, 45: 0, 50: 0, 55: 0, 60: 0, 65: 0}\n",
    "\n",
    "    # total for an age range\n",
    "    # i = 0\n",
    "    for i in range(len(ages) - 1):\n",
    "        # totals for this age range\n",
    "        total_costs = 0 \n",
    "        counter = 0\n",
    "        for person in data:\n",
    "            if ages[i] <= int(person['age']) < ages[i + 1]:\n",
    "                total_costs += float(person['charges'])\n",
    "                counter += 1\n",
    "        # avg for this range\n",
    "        average = round((total_costs / counter), 2)\n",
    "        grouped_costs.update({ages[i]: average})\n",
    "                \n",
    "        # print(grouped_costs)\n",
    "    \n",
    "        print(f'The average costs for those aged {ages[i]} to {(ages[i + 1] - 1)} was ${average}.')\n",
    "        \n",
    "five_yr_increases(data)"
   ]
  },
  {
   "cell_type": "markdown",
   "metadata": {},
   "source": [
    "### Average BMI of smokers v non-smokers"
   ]
  },
  {
   "cell_type": "code",
   "execution_count": 8,
   "metadata": {},
   "outputs": [
    {
     "name": "stdout",
     "output_type": "stream",
     "text": [
      "The the BMI of the average non-smoker is 30.65 while that of the average smoker is 30.71.\n"
     ]
    }
   ],
   "source": [
    "def diff_smoking(data):\n",
    "    smokers_total = 0\n",
    "    smokers_BMI = 0\n",
    "    non_smokers_total = 0\n",
    "    non_smokers_BMI = 0\n",
    "    for person in data:\n",
    "        if person['smoker'] == 'yes':\n",
    "            smokers_total += 1\n",
    "            smokers_BMI += float(person['bmi'])\n",
    "        else: \n",
    "            non_smokers_total += 1\n",
    "            non_smokers_BMI += float(person['bmi'])\n",
    "\n",
    "    smokers_avg = round(smokers_BMI / smokers_total, 2)\n",
    "    non_smokers_avg = round(non_smokers_BMI / non_smokers_total, 2)\n",
    "    \n",
    "    print(f'The the BMI of the average non-smoker is {non_smokers_avg} while that of the average smoker is {smokers_avg}.')\n",
    "        \n",
    "        \n",
    "diff_smoking(data)\n"
   ]
  },
  {
   "cell_type": "markdown",
   "metadata": {},
   "source": [
    "### Percentage of Smokers That Have Kids"
   ]
  },
  {
   "cell_type": "code",
   "execution_count": 9,
   "metadata": {},
   "outputs": [
    {
     "name": "stdout",
     "output_type": "stream",
     "text": [
      "58.03% of smokers have kids.\n"
     ]
    }
   ],
   "source": [
    "def smokers_with_kids(data):\n",
    "    smokers = 0\n",
    "    smokers_with_kids = 0\n",
    "    for person in data:\n",
    "        if person['smoker'] == 'yes':\n",
    "            smokers += 1\n",
    "            if person['children'] != '0':\n",
    "                smokers_with_kids += 1\n",
    "    # print(smokers, smokers_with_kids)\n",
    "    percent = round((smokers_with_kids / smokers), 4) * 100\n",
    "    print(f'{percent}% of smokers have kids.')\n",
    "\n",
    "smokers_with_kids(data)"
   ]
  }
 ],
 "metadata": {
  "kernelspec": {
   "display_name": "Python 3 (ipykernel)",
   "language": "python",
   "name": "python3"
  },
  "language_info": {
   "codemirror_mode": {
    "name": "ipython",
    "version": 3
   },
   "file_extension": ".py",
   "mimetype": "text/x-python",
   "name": "python",
   "nbconvert_exporter": "python",
   "pygments_lexer": "ipython3",
   "version": "3.9.6"
  }
 },
 "nbformat": 4,
 "nbformat_minor": 4
}
